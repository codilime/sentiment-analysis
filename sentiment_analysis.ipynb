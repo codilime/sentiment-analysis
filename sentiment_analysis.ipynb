{
 "cells": [
  {
   "cell_type": "markdown",
   "id": "11089f86-eeb4-4397-8e86-aaf32bc98bbf",
   "metadata": {},
   "source": [
    "### Instalacja bibliotek"
   ]
  },
  {
   "cell_type": "code",
   "execution_count": null,
   "id": "e728d179",
   "metadata": {
    "collapsed": false,
    "jupyter": {
     "outputs_hidden": false
    }
   },
   "outputs": [],
   "source": [
    "# !pip install transformers\n",
    "# !pip install torch\n",
    "# !pip install langdetect"
   ]
  },
  {
   "cell_type": "code",
   "execution_count": 1,
   "id": "8efb1df2",
   "metadata": {
    "collapsed": false,
    "jupyter": {
     "outputs_hidden": false
    }
   },
   "outputs": [
    {
     "data": {
      "text/plain": "      CourseId                                             Review  Label\n0   2-speed-it                                             BOring      1\n1   2-speed-it                                            Bravo !      5\n2   2-speed-it                                           Very goo      5\n3   2-speed-it  Great course - I recommend it for all, especia...      5\n4   2-speed-it    One of the most useful course on IT Management!      5\n5   2-speed-it  I was disappointed because the name is mislead...      3\n6   2-speed-it    Super content. I'll definitely re-do the course      5\n7   2-speed-it  Etant contrôleur de gestion pour le départemen...      5\n8   2-speed-it  One of the excellent courses at Coursera for i...      5\n9   2-speed-it  Is there any reason why you should not apply t...      5\n10  2-speed-it   Excellent course and teachers. Congratulations!!      5\n11  2-speed-it  This is a good course for an CIO in a non tech...      5\n12  2-speed-it  Good content, but the course setting does (at ...      3\n13  2-speed-it  Very structured approach. Thank you for sharin...      5\n14  2-speed-it                                      Excellent !!!      5\n15  2-speed-it  Program demystifies the evolving world of CIOs...      4\n16  2-speed-it                                   Excellent Course      5\n17  2-speed-it  Very relevant and useful course designed for CIOs      5\n18  2-speed-it  This course does not say anything about digiti...      2\n19  2-speed-it  Videos that are presented in French could've b...      4\n20  2-speed-it  The course content is quite good, though it co...      3\n21  2-speed-it  Great piece of work, I especially liked a few ...      5\n22  2-speed-it  Excellent course, for me it was very rewarding...      5\n23  2-speed-it  Excellent... It is a representation of our day...      4\n24  2-speed-it          Very interesting and well-designed MOOC !      5\n25      20cnwm                               good and interesting      5\n26      20cnwm  This class is very helpful to me. Currently, I...      5\n27      2d-cad  Well-presented contents with comprehensive ill...      5\n28      2d-cad  Very Basic course for learners without Autocad...      5\n29      2d-cad                                         简单易懂，实用性很强      5\n30      2d-cad                      觉得是很基础的东西，但是听了还是有很多新的收获，谢谢老师。      5\n31      2d-cad                           学到了许多实用的技巧，对工程思维的培养有很大帮助      5\n32      2d-cad  本人是一名结构工程师，有十多年的AutoCAD 2D绘图经验，但已经有较长时间没有进行系统地...      5\n33      2d-cad     非常喜歡康老師的課程，在這裏也能夠學習到非常完備的計算機輔助設計的程式應用，推薦大家來上課！      5\n34      2d-cad  一开始无法上传自己的作业，后来无法审核同学的作业，到现在课程超期无法学习下一门课程，对课程作...      1\n35      2d-cad                                    讲的很仔细 没有基础很容易学习      5\n36      2d-cad                                             非常好的课程      5\n37      2d-cad                            老师非常认真也很nice,非常期待后面的课程。      5\n38      2d-cad           讲课内容浅显易懂，图例也生动有趣，没有基础的同学也能很好地理解CAD的基础知识。      5\n39      2d-cad                                               非常用心      5\n40      2d-cad                                        很好，老师很负责人呢。      5\n41      2d-cad                                         very good!      5\n42      2d-cad                                                棒棒哒      5\n43      2d-cad                                      老师讲课很清晰，也很有耐心      5\n44      2d-cad                                      Good quality.      5\n45      2d-cad                                     很好的课程，弥补了学校的不足      5\n46      2d-cad                                               这门课程      5\n47      2d-cad                                          结构清晰，良心设计      5\n48      2d-cad                                    学到了很多基础知识~很棒的课程      5\n49      2d-cad                                       基础课 ，讲的通俗易懂。      5",
      "text/html": "<div>\n<style scoped>\n    .dataframe tbody tr th:only-of-type {\n        vertical-align: middle;\n    }\n\n    .dataframe tbody tr th {\n        vertical-align: top;\n    }\n\n    .dataframe thead th {\n        text-align: right;\n    }\n</style>\n<table border=\"1\" class=\"dataframe\">\n  <thead>\n    <tr style=\"text-align: right;\">\n      <th></th>\n      <th>CourseId</th>\n      <th>Review</th>\n      <th>Label</th>\n    </tr>\n  </thead>\n  <tbody>\n    <tr>\n      <th>0</th>\n      <td>2-speed-it</td>\n      <td>BOring</td>\n      <td>1</td>\n    </tr>\n    <tr>\n      <th>1</th>\n      <td>2-speed-it</td>\n      <td>Bravo !</td>\n      <td>5</td>\n    </tr>\n    <tr>\n      <th>2</th>\n      <td>2-speed-it</td>\n      <td>Very goo</td>\n      <td>5</td>\n    </tr>\n    <tr>\n      <th>3</th>\n      <td>2-speed-it</td>\n      <td>Great course - I recommend it for all, especia...</td>\n      <td>5</td>\n    </tr>\n    <tr>\n      <th>4</th>\n      <td>2-speed-it</td>\n      <td>One of the most useful course on IT Management!</td>\n      <td>5</td>\n    </tr>\n    <tr>\n      <th>5</th>\n      <td>2-speed-it</td>\n      <td>I was disappointed because the name is mislead...</td>\n      <td>3</td>\n    </tr>\n    <tr>\n      <th>6</th>\n      <td>2-speed-it</td>\n      <td>Super content. I'll definitely re-do the course</td>\n      <td>5</td>\n    </tr>\n    <tr>\n      <th>7</th>\n      <td>2-speed-it</td>\n      <td>Etant contrôleur de gestion pour le départemen...</td>\n      <td>5</td>\n    </tr>\n    <tr>\n      <th>8</th>\n      <td>2-speed-it</td>\n      <td>One of the excellent courses at Coursera for i...</td>\n      <td>5</td>\n    </tr>\n    <tr>\n      <th>9</th>\n      <td>2-speed-it</td>\n      <td>Is there any reason why you should not apply t...</td>\n      <td>5</td>\n    </tr>\n    <tr>\n      <th>10</th>\n      <td>2-speed-it</td>\n      <td>Excellent course and teachers. Congratulations!!</td>\n      <td>5</td>\n    </tr>\n    <tr>\n      <th>11</th>\n      <td>2-speed-it</td>\n      <td>This is a good course for an CIO in a non tech...</td>\n      <td>5</td>\n    </tr>\n    <tr>\n      <th>12</th>\n      <td>2-speed-it</td>\n      <td>Good content, but the course setting does (at ...</td>\n      <td>3</td>\n    </tr>\n    <tr>\n      <th>13</th>\n      <td>2-speed-it</td>\n      <td>Very structured approach. Thank you for sharin...</td>\n      <td>5</td>\n    </tr>\n    <tr>\n      <th>14</th>\n      <td>2-speed-it</td>\n      <td>Excellent !!!</td>\n      <td>5</td>\n    </tr>\n    <tr>\n      <th>15</th>\n      <td>2-speed-it</td>\n      <td>Program demystifies the evolving world of CIOs...</td>\n      <td>4</td>\n    </tr>\n    <tr>\n      <th>16</th>\n      <td>2-speed-it</td>\n      <td>Excellent Course</td>\n      <td>5</td>\n    </tr>\n    <tr>\n      <th>17</th>\n      <td>2-speed-it</td>\n      <td>Very relevant and useful course designed for CIOs</td>\n      <td>5</td>\n    </tr>\n    <tr>\n      <th>18</th>\n      <td>2-speed-it</td>\n      <td>This course does not say anything about digiti...</td>\n      <td>2</td>\n    </tr>\n    <tr>\n      <th>19</th>\n      <td>2-speed-it</td>\n      <td>Videos that are presented in French could've b...</td>\n      <td>4</td>\n    </tr>\n    <tr>\n      <th>20</th>\n      <td>2-speed-it</td>\n      <td>The course content is quite good, though it co...</td>\n      <td>3</td>\n    </tr>\n    <tr>\n      <th>21</th>\n      <td>2-speed-it</td>\n      <td>Great piece of work, I especially liked a few ...</td>\n      <td>5</td>\n    </tr>\n    <tr>\n      <th>22</th>\n      <td>2-speed-it</td>\n      <td>Excellent course, for me it was very rewarding...</td>\n      <td>5</td>\n    </tr>\n    <tr>\n      <th>23</th>\n      <td>2-speed-it</td>\n      <td>Excellent... It is a representation of our day...</td>\n      <td>4</td>\n    </tr>\n    <tr>\n      <th>24</th>\n      <td>2-speed-it</td>\n      <td>Very interesting and well-designed MOOC !</td>\n      <td>5</td>\n    </tr>\n    <tr>\n      <th>25</th>\n      <td>20cnwm</td>\n      <td>good and interesting</td>\n      <td>5</td>\n    </tr>\n    <tr>\n      <th>26</th>\n      <td>20cnwm</td>\n      <td>This class is very helpful to me. Currently, I...</td>\n      <td>5</td>\n    </tr>\n    <tr>\n      <th>27</th>\n      <td>2d-cad</td>\n      <td>Well-presented contents with comprehensive ill...</td>\n      <td>5</td>\n    </tr>\n    <tr>\n      <th>28</th>\n      <td>2d-cad</td>\n      <td>Very Basic course for learners without Autocad...</td>\n      <td>5</td>\n    </tr>\n    <tr>\n      <th>29</th>\n      <td>2d-cad</td>\n      <td>简单易懂，实用性很强</td>\n      <td>5</td>\n    </tr>\n    <tr>\n      <th>30</th>\n      <td>2d-cad</td>\n      <td>觉得是很基础的东西，但是听了还是有很多新的收获，谢谢老师。</td>\n      <td>5</td>\n    </tr>\n    <tr>\n      <th>31</th>\n      <td>2d-cad</td>\n      <td>学到了许多实用的技巧，对工程思维的培养有很大帮助</td>\n      <td>5</td>\n    </tr>\n    <tr>\n      <th>32</th>\n      <td>2d-cad</td>\n      <td>本人是一名结构工程师，有十多年的AutoCAD 2D绘图经验，但已经有较长时间没有进行系统地...</td>\n      <td>5</td>\n    </tr>\n    <tr>\n      <th>33</th>\n      <td>2d-cad</td>\n      <td>非常喜歡康老師的課程，在這裏也能夠學習到非常完備的計算機輔助設計的程式應用，推薦大家來上課！</td>\n      <td>5</td>\n    </tr>\n    <tr>\n      <th>34</th>\n      <td>2d-cad</td>\n      <td>一开始无法上传自己的作业，后来无法审核同学的作业，到现在课程超期无法学习下一门课程，对课程作...</td>\n      <td>1</td>\n    </tr>\n    <tr>\n      <th>35</th>\n      <td>2d-cad</td>\n      <td>讲的很仔细 没有基础很容易学习</td>\n      <td>5</td>\n    </tr>\n    <tr>\n      <th>36</th>\n      <td>2d-cad</td>\n      <td>非常好的课程</td>\n      <td>5</td>\n    </tr>\n    <tr>\n      <th>37</th>\n      <td>2d-cad</td>\n      <td>老师非常认真也很nice,非常期待后面的课程。</td>\n      <td>5</td>\n    </tr>\n    <tr>\n      <th>38</th>\n      <td>2d-cad</td>\n      <td>讲课内容浅显易懂，图例也生动有趣，没有基础的同学也能很好地理解CAD的基础知识。</td>\n      <td>5</td>\n    </tr>\n    <tr>\n      <th>39</th>\n      <td>2d-cad</td>\n      <td>非常用心</td>\n      <td>5</td>\n    </tr>\n    <tr>\n      <th>40</th>\n      <td>2d-cad</td>\n      <td>很好，老师很负责人呢。</td>\n      <td>5</td>\n    </tr>\n    <tr>\n      <th>41</th>\n      <td>2d-cad</td>\n      <td>very good!</td>\n      <td>5</td>\n    </tr>\n    <tr>\n      <th>42</th>\n      <td>2d-cad</td>\n      <td>棒棒哒</td>\n      <td>5</td>\n    </tr>\n    <tr>\n      <th>43</th>\n      <td>2d-cad</td>\n      <td>老师讲课很清晰，也很有耐心</td>\n      <td>5</td>\n    </tr>\n    <tr>\n      <th>44</th>\n      <td>2d-cad</td>\n      <td>Good quality.</td>\n      <td>5</td>\n    </tr>\n    <tr>\n      <th>45</th>\n      <td>2d-cad</td>\n      <td>很好的课程，弥补了学校的不足</td>\n      <td>5</td>\n    </tr>\n    <tr>\n      <th>46</th>\n      <td>2d-cad</td>\n      <td>这门课程</td>\n      <td>5</td>\n    </tr>\n    <tr>\n      <th>47</th>\n      <td>2d-cad</td>\n      <td>结构清晰，良心设计</td>\n      <td>5</td>\n    </tr>\n    <tr>\n      <th>48</th>\n      <td>2d-cad</td>\n      <td>学到了很多基础知识~很棒的课程</td>\n      <td>5</td>\n    </tr>\n    <tr>\n      <th>49</th>\n      <td>2d-cad</td>\n      <td>基础课 ，讲的通俗易懂。</td>\n      <td>5</td>\n    </tr>\n  </tbody>\n</table>\n</div>"
     },
     "execution_count": 1,
     "metadata": {},
     "output_type": "execute_result"
    }
   ],
   "source": [
    "import pandas as pd\n",
    "df_course = pd.read_csv(\"reviews_by_course.csv\")\n",
    "df_course[:50]"
   ]
  },
  {
   "cell_type": "code",
   "execution_count": 20,
   "outputs": [
    {
     "data": {
      "text/plain": "            CourseId                                             Review  Label\n0       data_science  Great course - I recommend it for all, especia...      5\n1           frontend    One of the most useful course on IT Management!      5\n2            backend  I was disappointed because the name is mislead...      3\n3                sql    Super content. I'll definitely re-do the course      5\n4                 ux  One of the excellent courses at Coursera for i...      5\n5         full-stack  Is there any reason why you should not apply t...      5\n6             python   Excellent course and teachers. Congratulations!!      5\n7         javascript  This is a good course for an CIO in a non tech...      5\n8   machine_learning  Good content, but the course setting does (at ...      3\n9    web_development  Very structured approach. Thank you for sharin...      5\n10      data_science  Program demystifies the evolving world of CIOs...      4\n11          frontend  Very relevant and useful course designed for CIOs      5\n12           backend  This course does not say anything about digiti...      2\n13               sql  Videos that are presented in French could've b...      4\n14                ux  The course content is quite good, though it co...      3\n15        full-stack  Great piece of work, I especially liked a few ...      5\n16            python  Excellent course, for me it was very rewarding...      5\n17        javascript  Excellent... It is a representation of our day...      4\n18  machine_learning          Very interesting and well-designed MOOC !      5\n19   web_development                               good and interesting      5\n20      data_science  This class is very helpful to me. Currently, I...      5\n21          frontend  Well-presented contents with comprehensive ill...      5\n22           backend  Very Basic course for learners without Autocad...      5\n23               sql                                      Good quality.      5\n24                ux  like!Prof and TAs are helpful and the discussi...      5\n25        full-stack  Easy to follow and includes a lot basic and im...      5\n26            python  Really nice teacher!I could got the point eazl...      4\n27        javascript                                            Thanks.      5\n28  machine_learning  Excellent overview of the ways in which 3D pri...      5\n29   web_development  Very well documented course.Assignments are de...      5\n30      data_science                    Very Good Informative Course.!!      5\n31          frontend  Excellent course. I completely enjoyed it. Tha...      5\n32           backend  It opened up my understanding of what could be...      5\n33               sql  Important information on copy rights, patents,...      4\n34                ux  Progress is in a state of flux, so one must re...      5\n35        full-stack  A really challenging and enriching course abou...      5\n36            python  This is a really good survey class in the pote...      5\n37        javascript             Excellent course , enjoyed learning :)      5\n38  machine_learning                 Great course and very informative.      5\n39   web_development  I'll start by saying that this course gives a ...      3\n40      data_science  This course doesn't contain any new informatio...      1\n41          frontend     Great course. I enjoyed learning the material.      4\n42           backend  Excellent course. Good classes, easy to follow...      5\n43               sql                  It should be merged with course 1      3\n44                ux  Very nutritional course with real world exampl...      5\n45        full-stack                                   very interesting      5\n46            python  Topics related to the economy or business are ...      4\n47        javascript  I was able to understand materials and devices...      5\n48  machine_learning  This course is very interesting, enlightening ...      5\n49   web_development  Great information and videos. Ready for the ne...      5",
      "text/html": "<div>\n<style scoped>\n    .dataframe tbody tr th:only-of-type {\n        vertical-align: middle;\n    }\n\n    .dataframe tbody tr th {\n        vertical-align: top;\n    }\n\n    .dataframe thead th {\n        text-align: right;\n    }\n</style>\n<table border=\"1\" class=\"dataframe\">\n  <thead>\n    <tr style=\"text-align: right;\">\n      <th></th>\n      <th>CourseId</th>\n      <th>Review</th>\n      <th>Label</th>\n    </tr>\n  </thead>\n  <tbody>\n    <tr>\n      <th>0</th>\n      <td>data_science</td>\n      <td>Great course - I recommend it for all, especia...</td>\n      <td>5</td>\n    </tr>\n    <tr>\n      <th>1</th>\n      <td>frontend</td>\n      <td>One of the most useful course on IT Management!</td>\n      <td>5</td>\n    </tr>\n    <tr>\n      <th>2</th>\n      <td>backend</td>\n      <td>I was disappointed because the name is mislead...</td>\n      <td>3</td>\n    </tr>\n    <tr>\n      <th>3</th>\n      <td>sql</td>\n      <td>Super content. I'll definitely re-do the course</td>\n      <td>5</td>\n    </tr>\n    <tr>\n      <th>4</th>\n      <td>ux</td>\n      <td>One of the excellent courses at Coursera for i...</td>\n      <td>5</td>\n    </tr>\n    <tr>\n      <th>5</th>\n      <td>full-stack</td>\n      <td>Is there any reason why you should not apply t...</td>\n      <td>5</td>\n    </tr>\n    <tr>\n      <th>6</th>\n      <td>python</td>\n      <td>Excellent course and teachers. Congratulations!!</td>\n      <td>5</td>\n    </tr>\n    <tr>\n      <th>7</th>\n      <td>javascript</td>\n      <td>This is a good course for an CIO in a non tech...</td>\n      <td>5</td>\n    </tr>\n    <tr>\n      <th>8</th>\n      <td>machine_learning</td>\n      <td>Good content, but the course setting does (at ...</td>\n      <td>3</td>\n    </tr>\n    <tr>\n      <th>9</th>\n      <td>web_development</td>\n      <td>Very structured approach. Thank you for sharin...</td>\n      <td>5</td>\n    </tr>\n    <tr>\n      <th>10</th>\n      <td>data_science</td>\n      <td>Program demystifies the evolving world of CIOs...</td>\n      <td>4</td>\n    </tr>\n    <tr>\n      <th>11</th>\n      <td>frontend</td>\n      <td>Very relevant and useful course designed for CIOs</td>\n      <td>5</td>\n    </tr>\n    <tr>\n      <th>12</th>\n      <td>backend</td>\n      <td>This course does not say anything about digiti...</td>\n      <td>2</td>\n    </tr>\n    <tr>\n      <th>13</th>\n      <td>sql</td>\n      <td>Videos that are presented in French could've b...</td>\n      <td>4</td>\n    </tr>\n    <tr>\n      <th>14</th>\n      <td>ux</td>\n      <td>The course content is quite good, though it co...</td>\n      <td>3</td>\n    </tr>\n    <tr>\n      <th>15</th>\n      <td>full-stack</td>\n      <td>Great piece of work, I especially liked a few ...</td>\n      <td>5</td>\n    </tr>\n    <tr>\n      <th>16</th>\n      <td>python</td>\n      <td>Excellent course, for me it was very rewarding...</td>\n      <td>5</td>\n    </tr>\n    <tr>\n      <th>17</th>\n      <td>javascript</td>\n      <td>Excellent... It is a representation of our day...</td>\n      <td>4</td>\n    </tr>\n    <tr>\n      <th>18</th>\n      <td>machine_learning</td>\n      <td>Very interesting and well-designed MOOC !</td>\n      <td>5</td>\n    </tr>\n    <tr>\n      <th>19</th>\n      <td>web_development</td>\n      <td>good and interesting</td>\n      <td>5</td>\n    </tr>\n    <tr>\n      <th>20</th>\n      <td>data_science</td>\n      <td>This class is very helpful to me. Currently, I...</td>\n      <td>5</td>\n    </tr>\n    <tr>\n      <th>21</th>\n      <td>frontend</td>\n      <td>Well-presented contents with comprehensive ill...</td>\n      <td>5</td>\n    </tr>\n    <tr>\n      <th>22</th>\n      <td>backend</td>\n      <td>Very Basic course for learners without Autocad...</td>\n      <td>5</td>\n    </tr>\n    <tr>\n      <th>23</th>\n      <td>sql</td>\n      <td>Good quality.</td>\n      <td>5</td>\n    </tr>\n    <tr>\n      <th>24</th>\n      <td>ux</td>\n      <td>like!Prof and TAs are helpful and the discussi...</td>\n      <td>5</td>\n    </tr>\n    <tr>\n      <th>25</th>\n      <td>full-stack</td>\n      <td>Easy to follow and includes a lot basic and im...</td>\n      <td>5</td>\n    </tr>\n    <tr>\n      <th>26</th>\n      <td>python</td>\n      <td>Really nice teacher!I could got the point eazl...</td>\n      <td>4</td>\n    </tr>\n    <tr>\n      <th>27</th>\n      <td>javascript</td>\n      <td>Thanks.</td>\n      <td>5</td>\n    </tr>\n    <tr>\n      <th>28</th>\n      <td>machine_learning</td>\n      <td>Excellent overview of the ways in which 3D pri...</td>\n      <td>5</td>\n    </tr>\n    <tr>\n      <th>29</th>\n      <td>web_development</td>\n      <td>Very well documented course.Assignments are de...</td>\n      <td>5</td>\n    </tr>\n    <tr>\n      <th>30</th>\n      <td>data_science</td>\n      <td>Very Good Informative Course.!!</td>\n      <td>5</td>\n    </tr>\n    <tr>\n      <th>31</th>\n      <td>frontend</td>\n      <td>Excellent course. I completely enjoyed it. Tha...</td>\n      <td>5</td>\n    </tr>\n    <tr>\n      <th>32</th>\n      <td>backend</td>\n      <td>It opened up my understanding of what could be...</td>\n      <td>5</td>\n    </tr>\n    <tr>\n      <th>33</th>\n      <td>sql</td>\n      <td>Important information on copy rights, patents,...</td>\n      <td>4</td>\n    </tr>\n    <tr>\n      <th>34</th>\n      <td>ux</td>\n      <td>Progress is in a state of flux, so one must re...</td>\n      <td>5</td>\n    </tr>\n    <tr>\n      <th>35</th>\n      <td>full-stack</td>\n      <td>A really challenging and enriching course abou...</td>\n      <td>5</td>\n    </tr>\n    <tr>\n      <th>36</th>\n      <td>python</td>\n      <td>This is a really good survey class in the pote...</td>\n      <td>5</td>\n    </tr>\n    <tr>\n      <th>37</th>\n      <td>javascript</td>\n      <td>Excellent course , enjoyed learning :)</td>\n      <td>5</td>\n    </tr>\n    <tr>\n      <th>38</th>\n      <td>machine_learning</td>\n      <td>Great course and very informative.</td>\n      <td>5</td>\n    </tr>\n    <tr>\n      <th>39</th>\n      <td>web_development</td>\n      <td>I'll start by saying that this course gives a ...</td>\n      <td>3</td>\n    </tr>\n    <tr>\n      <th>40</th>\n      <td>data_science</td>\n      <td>This course doesn't contain any new informatio...</td>\n      <td>1</td>\n    </tr>\n    <tr>\n      <th>41</th>\n      <td>frontend</td>\n      <td>Great course. I enjoyed learning the material.</td>\n      <td>4</td>\n    </tr>\n    <tr>\n      <th>42</th>\n      <td>backend</td>\n      <td>Excellent course. Good classes, easy to follow...</td>\n      <td>5</td>\n    </tr>\n    <tr>\n      <th>43</th>\n      <td>sql</td>\n      <td>It should be merged with course 1</td>\n      <td>3</td>\n    </tr>\n    <tr>\n      <th>44</th>\n      <td>ux</td>\n      <td>Very nutritional course with real world exampl...</td>\n      <td>5</td>\n    </tr>\n    <tr>\n      <th>45</th>\n      <td>full-stack</td>\n      <td>very interesting</td>\n      <td>5</td>\n    </tr>\n    <tr>\n      <th>46</th>\n      <td>python</td>\n      <td>Topics related to the economy or business are ...</td>\n      <td>4</td>\n    </tr>\n    <tr>\n      <th>47</th>\n      <td>javascript</td>\n      <td>I was able to understand materials and devices...</td>\n      <td>5</td>\n    </tr>\n    <tr>\n      <th>48</th>\n      <td>machine_learning</td>\n      <td>This course is very interesting, enlightening ...</td>\n      <td>5</td>\n    </tr>\n    <tr>\n      <th>49</th>\n      <td>web_development</td>\n      <td>Great information and videos. Ready for the ne...</td>\n      <td>5</td>\n    </tr>\n  </tbody>\n</table>\n</div>"
     },
     "execution_count": 20,
     "metadata": {},
     "output_type": "execute_result"
    }
   ],
   "source": [
    "df_course = pd.read_csv(\"reviews_english.csv\").drop(columns='Unnamed: 0')\n",
    "new_courses = ['data_science', 'frontend', 'backend', 'sql',\n",
    "               'ux', 'full-stack', 'python', 'javascript', 'machine_learning', 'web_development']\n",
    "\n",
    "df_course['CourseId'] = [new_courses[i % len(new_courses)] for i in range(len(df_course))]\n",
    "\n",
    "df= df_course.head(50)\n",
    "df"
   ],
   "metadata": {
    "collapsed": false
   }
  },
  {
   "cell_type": "code",
   "execution_count": 19,
   "id": "a7031f01",
   "metadata": {
    "collapsed": false,
    "jupyter": {
     "outputs_hidden": false
    }
   },
   "outputs": [],
   "source": [
    "# from langdetect import detect, DetectorFactory\n",
    "#\n",
    "# DetectorFactory.seed = 0\n",
    "#\n",
    "# # Function to detect English\n",
    "# def is_english(text):\n",
    "#     try:\n",
    "#         return detect(text) == 'en'\n",
    "#     except:\n",
    "#         return False\n",
    "#\n",
    "# # Filter dataframe to keep only English reviews\n",
    "# df_course = df_course[df_course['Review'].apply(is_english)]\n",
    "# df_course"
   ]
  },
  {
   "cell_type": "code",
   "execution_count": 3,
   "id": "0ca02845",
   "metadata": {
    "collapsed": false,
    "jupyter": {
     "outputs_hidden": false
    }
   },
   "outputs": [],
   "source": [
    "# df_course.to_csv(\"reviews_english.csv\")"
   ]
  },
  {
   "cell_type": "code",
   "execution_count": 4,
   "id": "e032ad42-c08a-4feb-a4be-3a2fa653fd8a",
   "metadata": {},
   "outputs": [],
   "source": [
    "from transformers import AutoTokenizer, AutoModelForSequenceClassification\n",
    "from scipy.special import softmax"
   ]
  },
  {
   "cell_type": "markdown",
   "id": "84514863-8f34-4159-95ab-eff893778d75",
   "metadata": {},
   "source": [
    "[RoBERTa HF](https://huggingface.co/cardiffnlp/twitter-roberta-base-sentiment?text=The+course+was+amazing%21+Highly+recommend%21)\n"
   ]
  },
  {
   "cell_type": "code",
   "execution_count": 7,
   "id": "d8fa9d5e-bbef-410f-967e-66cb496a6215",
   "metadata": {},
   "outputs": [],
   "source": [
    "roberta = \"cardiffnlp/twitter-roberta-base-sentiment\""
   ]
  },
  {
   "cell_type": "code",
   "execution_count": 8,
   "id": "47bac398",
   "metadata": {
    "collapsed": false,
    "jupyter": {
     "outputs_hidden": false
    }
   },
   "outputs": [],
   "source": [
    "model = AutoModelForSequenceClassification.from_pretrained(roberta)\n",
    "tokenizer = AutoTokenizer.from_pretrained(roberta)\n",
    "labels = ['Negative', 'Neutral', 'Positive']"
   ]
  },
  {
   "cell_type": "code",
   "execution_count": 9,
   "id": "7f9bbc8c-8636-4e79-b23e-308c731aae2b",
   "metadata": {},
   "outputs": [],
   "source": [
    "sample = 'I love that movie!'"
   ]
  },
  {
   "cell_type": "code",
   "execution_count": 10,
   "id": "b8f4b408-7ad2-4db6-8f13-e05f6bb63811",
   "metadata": {},
   "outputs": [
    {
     "data": {
      "text/plain": "{'input_ids': tensor([[   0,  100,  657,   14, 1569,  328,    2]]), 'attention_mask': tensor([[1, 1, 1, 1, 1, 1, 1]])}"
     },
     "execution_count": 10,
     "metadata": {},
     "output_type": "execute_result"
    }
   ],
   "source": [
    "encoded_review = tokenizer(sample, return_tensors='pt')\n",
    "encoded_review"
   ]
  },
  {
   "cell_type": "code",
   "execution_count": 11,
   "id": "dabe5f88-7950-42a0-ba31-c2530fbcea79",
   "metadata": {},
   "outputs": [
    {
     "data": {
      "text/plain": "SequenceClassifierOutput(loss=None, logits=tensor([[-1.9938, -1.0182,  4.0371]], grad_fn=<AddmmBackward0>), hidden_states=None, attentions=None)"
     },
     "execution_count": 11,
     "metadata": {},
     "output_type": "execute_result"
    }
   ],
   "source": [
    "output = model(**encoded_review)\n",
    "output"
   ]
  },
  {
   "cell_type": "code",
   "execution_count": 12,
   "id": "71438b11-67c0-466d-8859-7f768a507b1e",
   "metadata": {},
   "outputs": [
    {
     "data": {
      "text/plain": "array([-1.9938025, -1.0181675,  4.0370827], dtype=float32)"
     },
     "execution_count": 12,
     "metadata": {},
     "output_type": "execute_result"
    }
   ],
   "source": [
    "scores = output[0][0].detach().numpy()\n",
    "scores"
   ]
  },
  {
   "cell_type": "code",
   "execution_count": 13,
   "id": "7c13f0b1-f0b0-4cdb-be66-ed32df79893e",
   "metadata": {},
   "outputs": [
    {
     "data": {
      "text/plain": "array([0.00238245, 0.00632028, 0.99129725], dtype=float32)"
     },
     "execution_count": 13,
     "metadata": {},
     "output_type": "execute_result"
    }
   ],
   "source": [
    "scores = softmax(scores)\n",
    "scores"
   ]
  },
  {
   "cell_type": "code",
   "execution_count": 14,
   "id": "14a98c47-7478-48b1-8960-ef8852274adb",
   "metadata": {},
   "outputs": [
    {
     "data": {
      "text/plain": "'Positive'"
     },
     "execution_count": 14,
     "metadata": {},
     "output_type": "execute_result"
    }
   ],
   "source": [
    "sentiment_label = labels[scores.argmax()]\n",
    "sentiment_label"
   ]
  },
  {
   "cell_type": "code",
   "execution_count": 15,
   "id": "ab0f8253-fa1a-4792-b617-4ee8e0c99310",
   "metadata": {},
   "outputs": [
    {
     "name": "stderr",
     "output_type": "stream",
     "text": [
      "/var/folders/mm/517b2z6130sdhc1j0r38bdtm0000gn/T/ipykernel_87815/2450482489.py:10: SettingWithCopyWarning: \n",
      "A value is trying to be set on a copy of a slice from a DataFrame.\n",
      "Try using .loc[row_indexer,col_indexer] = value instead\n",
      "\n",
      "See the caveats in the documentation: https://pandas.pydata.org/pandas-docs/stable/user_guide/indexing.html#returning-a-view-versus-a-copy\n",
      "  df['Sentiment'] = df['Review'].apply(get_sentiment)\n"
     ]
    },
    {
     "data": {
      "text/plain": "            CourseId                                             Review  \\\n0       data_science  Great course - I recommend it for all, especia...   \n1           frontend    One of the most useful course on IT Management!   \n2            backend  I was disappointed because the name is mislead...   \n3                sql    Super content. I'll definitely re-do the course   \n4                 ux  One of the excellent courses at Coursera for i...   \n5         full-stack  Is there any reason why you should not apply t...   \n6             python   Excellent course and teachers. Congratulations!!   \n7         javascript  This is a good course for an CIO in a non tech...   \n8   machine_learning  Good content, but the course setting does (at ...   \n9    web_development  Very structured approach. Thank you for sharin...   \n10      data_science  Program demystifies the evolving world of CIOs...   \n11          frontend  Very relevant and useful course designed for CIOs   \n12           backend  This course does not say anything about digiti...   \n13               sql  Videos that are presented in French could've b...   \n14                ux  The course content is quite good, though it co...   \n15        full-stack  Great piece of work, I especially liked a few ...   \n16            python  Excellent course, for me it was very rewarding...   \n17        javascript  Excellent... It is a representation of our day...   \n18  machine_learning          Very interesting and well-designed MOOC !   \n19   web_development                               good and interesting   \n20      data_science  This class is very helpful to me. Currently, I...   \n21          frontend  Well-presented contents with comprehensive ill...   \n22           backend  Very Basic course for learners without Autocad...   \n23               sql                                      Good quality.   \n24                ux  like!Prof and TAs are helpful and the discussi...   \n25        full-stack  Easy to follow and includes a lot basic and im...   \n26            python  Really nice teacher!I could got the point eazl...   \n27        javascript                                            Thanks.   \n28  machine_learning  Excellent overview of the ways in which 3D pri...   \n29   web_development  Very well documented course.Assignments are de...   \n30      data_science                    Very Good Informative Course.!!   \n31          frontend  Excellent course. I completely enjoyed it. Tha...   \n32           backend  It opened up my understanding of what could be...   \n33               sql  Important information on copy rights, patents,...   \n34                ux  Progress is in a state of flux, so one must re...   \n35        full-stack  A really challenging and enriching course abou...   \n36            python  This is a really good survey class in the pote...   \n37        javascript             Excellent course , enjoyed learning :)   \n38  machine_learning                 Great course and very informative.   \n39   web_development  I'll start by saying that this course gives a ...   \n40      data_science  This course doesn't contain any new informatio...   \n41          frontend     Great course. I enjoyed learning the material.   \n42           backend  Excellent course. Good classes, easy to follow...   \n43               sql                  It should be merged with course 1   \n44                ux  Very nutritional course with real world exampl...   \n45        full-stack                                   very interesting   \n46            python  Topics related to the economy or business are ...   \n47        javascript  I was able to understand materials and devices...   \n48  machine_learning  This course is very interesting, enlightening ...   \n49   web_development  Great information and videos. Ready for the ne...   \n\n    Label Sentiment  \n0       5  Positive  \n1       5  Positive  \n2       3  Negative  \n3       5  Positive  \n4       5  Positive  \n5       5  Positive  \n6       5  Positive  \n7       5  Positive  \n8       3  Negative  \n9       5  Positive  \n10      4   Neutral  \n11      5  Positive  \n12      2   Neutral  \n13      4   Neutral  \n14      3  Negative  \n15      5  Positive  \n16      5  Positive  \n17      4  Positive  \n18      5  Positive  \n19      5  Positive  \n20      5  Positive  \n21      5  Positive  \n22      5   Neutral  \n23      5  Positive  \n24      5  Positive  \n25      5  Positive  \n26      4  Positive  \n27      5  Positive  \n28      5  Positive  \n29      5  Positive  \n30      5  Positive  \n31      5  Positive  \n32      5  Positive  \n33      4   Neutral  \n34      5  Positive  \n35      5  Positive  \n36      5  Positive  \n37      5  Positive  \n38      5  Positive  \n39      3  Positive  \n40      1   Neutral  \n41      4  Positive  \n42      5  Positive  \n43      3   Neutral  \n44      5  Positive  \n45      5  Positive  \n46      4  Positive  \n47      5  Positive  \n48      5  Positive  \n49      5  Positive  ",
      "text/html": "<div>\n<style scoped>\n    .dataframe tbody tr th:only-of-type {\n        vertical-align: middle;\n    }\n\n    .dataframe tbody tr th {\n        vertical-align: top;\n    }\n\n    .dataframe thead th {\n        text-align: right;\n    }\n</style>\n<table border=\"1\" class=\"dataframe\">\n  <thead>\n    <tr style=\"text-align: right;\">\n      <th></th>\n      <th>CourseId</th>\n      <th>Review</th>\n      <th>Label</th>\n      <th>Sentiment</th>\n    </tr>\n  </thead>\n  <tbody>\n    <tr>\n      <th>0</th>\n      <td>data_science</td>\n      <td>Great course - I recommend it for all, especia...</td>\n      <td>5</td>\n      <td>Positive</td>\n    </tr>\n    <tr>\n      <th>1</th>\n      <td>frontend</td>\n      <td>One of the most useful course on IT Management!</td>\n      <td>5</td>\n      <td>Positive</td>\n    </tr>\n    <tr>\n      <th>2</th>\n      <td>backend</td>\n      <td>I was disappointed because the name is mislead...</td>\n      <td>3</td>\n      <td>Negative</td>\n    </tr>\n    <tr>\n      <th>3</th>\n      <td>sql</td>\n      <td>Super content. I'll definitely re-do the course</td>\n      <td>5</td>\n      <td>Positive</td>\n    </tr>\n    <tr>\n      <th>4</th>\n      <td>ux</td>\n      <td>One of the excellent courses at Coursera for i...</td>\n      <td>5</td>\n      <td>Positive</td>\n    </tr>\n    <tr>\n      <th>5</th>\n      <td>full-stack</td>\n      <td>Is there any reason why you should not apply t...</td>\n      <td>5</td>\n      <td>Positive</td>\n    </tr>\n    <tr>\n      <th>6</th>\n      <td>python</td>\n      <td>Excellent course and teachers. Congratulations!!</td>\n      <td>5</td>\n      <td>Positive</td>\n    </tr>\n    <tr>\n      <th>7</th>\n      <td>javascript</td>\n      <td>This is a good course for an CIO in a non tech...</td>\n      <td>5</td>\n      <td>Positive</td>\n    </tr>\n    <tr>\n      <th>8</th>\n      <td>machine_learning</td>\n      <td>Good content, but the course setting does (at ...</td>\n      <td>3</td>\n      <td>Negative</td>\n    </tr>\n    <tr>\n      <th>9</th>\n      <td>web_development</td>\n      <td>Very structured approach. Thank you for sharin...</td>\n      <td>5</td>\n      <td>Positive</td>\n    </tr>\n    <tr>\n      <th>10</th>\n      <td>data_science</td>\n      <td>Program demystifies the evolving world of CIOs...</td>\n      <td>4</td>\n      <td>Neutral</td>\n    </tr>\n    <tr>\n      <th>11</th>\n      <td>frontend</td>\n      <td>Very relevant and useful course designed for CIOs</td>\n      <td>5</td>\n      <td>Positive</td>\n    </tr>\n    <tr>\n      <th>12</th>\n      <td>backend</td>\n      <td>This course does not say anything about digiti...</td>\n      <td>2</td>\n      <td>Neutral</td>\n    </tr>\n    <tr>\n      <th>13</th>\n      <td>sql</td>\n      <td>Videos that are presented in French could've b...</td>\n      <td>4</td>\n      <td>Neutral</td>\n    </tr>\n    <tr>\n      <th>14</th>\n      <td>ux</td>\n      <td>The course content is quite good, though it co...</td>\n      <td>3</td>\n      <td>Negative</td>\n    </tr>\n    <tr>\n      <th>15</th>\n      <td>full-stack</td>\n      <td>Great piece of work, I especially liked a few ...</td>\n      <td>5</td>\n      <td>Positive</td>\n    </tr>\n    <tr>\n      <th>16</th>\n      <td>python</td>\n      <td>Excellent course, for me it was very rewarding...</td>\n      <td>5</td>\n      <td>Positive</td>\n    </tr>\n    <tr>\n      <th>17</th>\n      <td>javascript</td>\n      <td>Excellent... It is a representation of our day...</td>\n      <td>4</td>\n      <td>Positive</td>\n    </tr>\n    <tr>\n      <th>18</th>\n      <td>machine_learning</td>\n      <td>Very interesting and well-designed MOOC !</td>\n      <td>5</td>\n      <td>Positive</td>\n    </tr>\n    <tr>\n      <th>19</th>\n      <td>web_development</td>\n      <td>good and interesting</td>\n      <td>5</td>\n      <td>Positive</td>\n    </tr>\n    <tr>\n      <th>20</th>\n      <td>data_science</td>\n      <td>This class is very helpful to me. Currently, I...</td>\n      <td>5</td>\n      <td>Positive</td>\n    </tr>\n    <tr>\n      <th>21</th>\n      <td>frontend</td>\n      <td>Well-presented contents with comprehensive ill...</td>\n      <td>5</td>\n      <td>Positive</td>\n    </tr>\n    <tr>\n      <th>22</th>\n      <td>backend</td>\n      <td>Very Basic course for learners without Autocad...</td>\n      <td>5</td>\n      <td>Neutral</td>\n    </tr>\n    <tr>\n      <th>23</th>\n      <td>sql</td>\n      <td>Good quality.</td>\n      <td>5</td>\n      <td>Positive</td>\n    </tr>\n    <tr>\n      <th>24</th>\n      <td>ux</td>\n      <td>like!Prof and TAs are helpful and the discussi...</td>\n      <td>5</td>\n      <td>Positive</td>\n    </tr>\n    <tr>\n      <th>25</th>\n      <td>full-stack</td>\n      <td>Easy to follow and includes a lot basic and im...</td>\n      <td>5</td>\n      <td>Positive</td>\n    </tr>\n    <tr>\n      <th>26</th>\n      <td>python</td>\n      <td>Really nice teacher!I could got the point eazl...</td>\n      <td>4</td>\n      <td>Positive</td>\n    </tr>\n    <tr>\n      <th>27</th>\n      <td>javascript</td>\n      <td>Thanks.</td>\n      <td>5</td>\n      <td>Positive</td>\n    </tr>\n    <tr>\n      <th>28</th>\n      <td>machine_learning</td>\n      <td>Excellent overview of the ways in which 3D pri...</td>\n      <td>5</td>\n      <td>Positive</td>\n    </tr>\n    <tr>\n      <th>29</th>\n      <td>web_development</td>\n      <td>Very well documented course.Assignments are de...</td>\n      <td>5</td>\n      <td>Positive</td>\n    </tr>\n    <tr>\n      <th>30</th>\n      <td>data_science</td>\n      <td>Very Good Informative Course.!!</td>\n      <td>5</td>\n      <td>Positive</td>\n    </tr>\n    <tr>\n      <th>31</th>\n      <td>frontend</td>\n      <td>Excellent course. I completely enjoyed it. Tha...</td>\n      <td>5</td>\n      <td>Positive</td>\n    </tr>\n    <tr>\n      <th>32</th>\n      <td>backend</td>\n      <td>It opened up my understanding of what could be...</td>\n      <td>5</td>\n      <td>Positive</td>\n    </tr>\n    <tr>\n      <th>33</th>\n      <td>sql</td>\n      <td>Important information on copy rights, patents,...</td>\n      <td>4</td>\n      <td>Neutral</td>\n    </tr>\n    <tr>\n      <th>34</th>\n      <td>ux</td>\n      <td>Progress is in a state of flux, so one must re...</td>\n      <td>5</td>\n      <td>Positive</td>\n    </tr>\n    <tr>\n      <th>35</th>\n      <td>full-stack</td>\n      <td>A really challenging and enriching course abou...</td>\n      <td>5</td>\n      <td>Positive</td>\n    </tr>\n    <tr>\n      <th>36</th>\n      <td>python</td>\n      <td>This is a really good survey class in the pote...</td>\n      <td>5</td>\n      <td>Positive</td>\n    </tr>\n    <tr>\n      <th>37</th>\n      <td>javascript</td>\n      <td>Excellent course , enjoyed learning :)</td>\n      <td>5</td>\n      <td>Positive</td>\n    </tr>\n    <tr>\n      <th>38</th>\n      <td>machine_learning</td>\n      <td>Great course and very informative.</td>\n      <td>5</td>\n      <td>Positive</td>\n    </tr>\n    <tr>\n      <th>39</th>\n      <td>web_development</td>\n      <td>I'll start by saying that this course gives a ...</td>\n      <td>3</td>\n      <td>Positive</td>\n    </tr>\n    <tr>\n      <th>40</th>\n      <td>data_science</td>\n      <td>This course doesn't contain any new informatio...</td>\n      <td>1</td>\n      <td>Neutral</td>\n    </tr>\n    <tr>\n      <th>41</th>\n      <td>frontend</td>\n      <td>Great course. I enjoyed learning the material.</td>\n      <td>4</td>\n      <td>Positive</td>\n    </tr>\n    <tr>\n      <th>42</th>\n      <td>backend</td>\n      <td>Excellent course. Good classes, easy to follow...</td>\n      <td>5</td>\n      <td>Positive</td>\n    </tr>\n    <tr>\n      <th>43</th>\n      <td>sql</td>\n      <td>It should be merged with course 1</td>\n      <td>3</td>\n      <td>Neutral</td>\n    </tr>\n    <tr>\n      <th>44</th>\n      <td>ux</td>\n      <td>Very nutritional course with real world exampl...</td>\n      <td>5</td>\n      <td>Positive</td>\n    </tr>\n    <tr>\n      <th>45</th>\n      <td>full-stack</td>\n      <td>very interesting</td>\n      <td>5</td>\n      <td>Positive</td>\n    </tr>\n    <tr>\n      <th>46</th>\n      <td>python</td>\n      <td>Topics related to the economy or business are ...</td>\n      <td>4</td>\n      <td>Positive</td>\n    </tr>\n    <tr>\n      <th>47</th>\n      <td>javascript</td>\n      <td>I was able to understand materials and devices...</td>\n      <td>5</td>\n      <td>Positive</td>\n    </tr>\n    <tr>\n      <th>48</th>\n      <td>machine_learning</td>\n      <td>This course is very interesting, enlightening ...</td>\n      <td>5</td>\n      <td>Positive</td>\n    </tr>\n    <tr>\n      <th>49</th>\n      <td>web_development</td>\n      <td>Great information and videos. Ready for the ne...</td>\n      <td>5</td>\n      <td>Positive</td>\n    </tr>\n  </tbody>\n</table>\n</div>"
     },
     "execution_count": 15,
     "metadata": {},
     "output_type": "execute_result"
    }
   ],
   "source": [
    "def get_sentiment(review):\n",
    "    encoded_review = tokenizer(review, return_tensors='pt')\n",
    "    output = model(**encoded_review)\n",
    "\n",
    "    scores = output[0][0].detach().numpy()\n",
    "    scores = softmax(scores)\n",
    "    sentiment_label = labels[scores.argmax()]\n",
    "    return sentiment_label\n",
    "\n",
    "df['Sentiment'] = df['Review'].apply(get_sentiment)\n",
    "df"
   ]
  },
  {
   "cell_type": "code",
   "execution_count": 16,
   "id": "e9f9f63a",
   "metadata": {
    "collapsed": false,
    "jupyter": {
     "outputs_hidden": false
    }
   },
   "outputs": [
    {
     "data": {
      "text/plain": "Sentiment         Negative  Neutral  Positive\nCourseId                                     \nbackend                  1        2         2\ndata_science             0        2         3\nfrontend                 0        0         5\nfull-stack               0        0         5\njavascript               0        0         5\nmachine_learning         1        0         4\npython                   0        0         5\nsql                      0        3         2\nux                       1        0         4\nweb_development          0        0         5",
      "text/html": "<div>\n<style scoped>\n    .dataframe tbody tr th:only-of-type {\n        vertical-align: middle;\n    }\n\n    .dataframe tbody tr th {\n        vertical-align: top;\n    }\n\n    .dataframe thead th {\n        text-align: right;\n    }\n</style>\n<table border=\"1\" class=\"dataframe\">\n  <thead>\n    <tr style=\"text-align: right;\">\n      <th>Sentiment</th>\n      <th>Negative</th>\n      <th>Neutral</th>\n      <th>Positive</th>\n    </tr>\n    <tr>\n      <th>CourseId</th>\n      <th></th>\n      <th></th>\n      <th></th>\n    </tr>\n  </thead>\n  <tbody>\n    <tr>\n      <th>backend</th>\n      <td>1</td>\n      <td>2</td>\n      <td>2</td>\n    </tr>\n    <tr>\n      <th>data_science</th>\n      <td>0</td>\n      <td>2</td>\n      <td>3</td>\n    </tr>\n    <tr>\n      <th>frontend</th>\n      <td>0</td>\n      <td>0</td>\n      <td>5</td>\n    </tr>\n    <tr>\n      <th>full-stack</th>\n      <td>0</td>\n      <td>0</td>\n      <td>5</td>\n    </tr>\n    <tr>\n      <th>javascript</th>\n      <td>0</td>\n      <td>0</td>\n      <td>5</td>\n    </tr>\n    <tr>\n      <th>machine_learning</th>\n      <td>1</td>\n      <td>0</td>\n      <td>4</td>\n    </tr>\n    <tr>\n      <th>python</th>\n      <td>0</td>\n      <td>0</td>\n      <td>5</td>\n    </tr>\n    <tr>\n      <th>sql</th>\n      <td>0</td>\n      <td>3</td>\n      <td>2</td>\n    </tr>\n    <tr>\n      <th>ux</th>\n      <td>1</td>\n      <td>0</td>\n      <td>4</td>\n    </tr>\n    <tr>\n      <th>web_development</th>\n      <td>0</td>\n      <td>0</td>\n      <td>5</td>\n    </tr>\n  </tbody>\n</table>\n</div>"
     },
     "execution_count": 16,
     "metadata": {},
     "output_type": "execute_result"
    }
   ],
   "source": [
    "pivot_table = df.pivot_table(index='CourseId', columns='Sentiment', aggfunc='size', fill_value=0)\n",
    "\n",
    "pivot_table"
   ]
  },
  {
   "cell_type": "code",
   "execution_count": 17,
   "id": "d86243d4-a69b-48ac-be10-6259face78fb",
   "metadata": {},
   "outputs": [
    {
     "data": {
      "text/plain": "'frontend'"
     },
     "execution_count": 17,
     "metadata": {},
     "output_type": "execute_result"
    }
   ],
   "source": [
    "best_course = pivot_table['Positive'].idxmax()\n",
    "best_course"
   ]
  },
  {
   "cell_type": "code",
   "execution_count": 18,
   "id": "432598ae",
   "metadata": {
    "collapsed": false,
    "jupyter": {
     "outputs_hidden": false
    }
   },
   "outputs": [
    {
     "data": {
      "text/plain": "'I was disappointed because the name is misleading. The course provides a good introduction & overview of the responsibilities of the CTO, but has very little specifically digital content. It deals with two-speed IT in a single short lecture, so of course the treatment is superficial. It is easy to find more in-depth material freely available, on the McKinsey website for example.'"
     },
     "execution_count": 18,
     "metadata": {},
     "output_type": "execute_result"
    }
   ],
   "source": [
    "df['Review'].iloc[2]"
   ]
  },
  {
   "cell_type": "code",
   "execution_count": 21,
   "id": "bae9ba05-829b-4fd7-a7a3-e45104e98275",
   "metadata": {},
   "outputs": [
    {
     "data": {
      "text/plain": "'backend'"
     },
     "execution_count": 21,
     "metadata": {},
     "output_type": "execute_result"
    }
   ],
   "source": [
    "worst_course = pivot_table['Negative'].idxmax()\n",
    "worst_course"
   ]
  },
  {
   "cell_type": "code",
   "execution_count": null,
   "outputs": [],
   "source": [],
   "metadata": {
    "collapsed": false
   }
  }
 ],
 "metadata": {
  "kernelspec": {
   "display_name": "Python 3 (ipykernel)",
   "language": "python",
   "name": "python3"
  },
  "language_info": {
   "codemirror_mode": {
    "name": "ipython",
    "version": 3
   },
   "file_extension": ".py",
   "mimetype": "text/x-python",
   "name": "python",
   "nbconvert_exporter": "python",
   "pygments_lexer": "ipython3",
   "version": "3.11.3"
  }
 },
 "nbformat": 4,
 "nbformat_minor": 5
}
